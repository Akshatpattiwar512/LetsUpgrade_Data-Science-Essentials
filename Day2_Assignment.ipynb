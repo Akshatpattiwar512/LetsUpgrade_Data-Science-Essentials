{
  "nbformat": 4,
  "nbformat_minor": 0,
  "metadata": {
    "colab": {
      "name": "Day2 Assignment",
      "provenance": [],
      "authorship_tag": "ABX9TyNnBlg4KRn2ZSOVsNP6v7lu",
      "include_colab_link": true
    },
    "kernelspec": {
      "name": "python3",
      "display_name": "Python 3"
    }
  },
  "cells": [
    {
      "cell_type": "markdown",
      "metadata": {
        "id": "view-in-github",
        "colab_type": "text"
      },
      "source": [
        "<a href=\"https://colab.research.google.com/github/Akshatpattiwar512/LetsUpgrade_Data-Science-Essentials/blob/main/Day2_Assignment.ipynb\" target=\"_parent\"><img src=\"https://colab.research.google.com/assets/colab-badge.svg\" alt=\"Open In Colab\"/></a>"
      ]
    },
    {
      "cell_type": "code",
      "metadata": {
        "id": "m9oiJObTbeCk",
        "outputId": "ef918d06-fad2-4433-db96-591fd480a1b3",
        "colab": {
          "base_uri": "https://localhost:8080/"
        }
      },
      "source": [
        "#Q1\n",
        "list = []\n",
        "for i in range(10):\n",
        "\tnumber = int(input())\n",
        "\tif number%2==0:\n",
        "\t\tlist.append(number)\n",
        "print(list)"
      ],
      "execution_count": null,
      "outputs": [
        {
          "output_type": "stream",
          "text": [
            "9\n",
            "8\n",
            "6\n",
            "56\n",
            "4580\n",
            "5\n",
            "23\n",
            "14586\n",
            "2\n",
            "3\n",
            "[8, 6, 56, 4580, 14586, 2]\n"
          ],
          "name": "stdout"
        }
      ]
    },
    {
      "cell_type": "code",
      "metadata": {
        "id": "PKwTQHjLkY7k",
        "outputId": "b2c5fb1b-b794-4c71-f369-c2fcfb94a6bc",
        "colab": {
          "base_uri": "https://localhost:8080/"
        }
      },
      "source": [
        "#Q2\n",
        "\"List comprehensions are a way of achieving Pythonic one-liners with iterables(lists)\"\n",
        "#Example1\n",
        "input_list = [1, 2, 3, 4, 4, 5, 6, 7, 7] \n",
        "  \n",
        "output_list = [] \n",
        "  \n",
        "# Using loop for constructing output list \n",
        "for var in input_list: \n",
        "    if var % 2 == 0: \n",
        "        output_list.append(var) \n",
        "  \n",
        "print(\"Output List using for loop:\", output_list)\n",
        "#Using list comprehension\n",
        "input_list = [1, 2, 3, 4, 4, 5, 6, 7, 7] \n",
        "  \n",
        "  \n",
        "list_using_comp = [var for var in input_list if var % 2 == 0] \n",
        "  \n",
        "print(\"Output List using list comprehensions:\", list_using_comp)\n",
        "\n",
        "\n",
        "#Example2\n",
        "#Using for loop\n",
        "output_list = [] \n",
        "for var in range(1, 10): \n",
        "    output_list.append(var ** 2) \n",
        "      \n",
        "print(\"Output List using for loop:\", output_list)\n",
        "#Using list comprehension\n",
        "list_using_comp = [var**2 for var in range(1, 10)] \n",
        "  \n",
        "print(\"Output List using list comprehension:\",  \n",
        "                              list_using_comp)"
      ],
      "execution_count": 25,
      "outputs": [
        {
          "output_type": "stream",
          "text": [
            "Output List using for loop: [2, 4, 4, 6]\n",
            "Output List using list comprehensions: [2, 4, 4, 6]\n",
            "Output List using for loop: [1, 4, 9, 16, 25, 36, 49, 64, 81]\n",
            "Output List using list comprehension: [1, 4, 9, 16, 25, 36, 49, 64, 81]\n"
          ],
          "name": "stdout"
        }
      ]
    },
    {
      "cell_type": "code",
      "metadata": {
        "id": "wUX7mHE8Em_X",
        "outputId": "a6d102ec-ea4d-410e-e75c-5c95fbe53861",
        "colab": {
          "base_uri": "https://localhost:8080/"
        }
      },
      "source": [
        "#Q3\n",
        "num=int(input())\n",
        "d=dict()\n",
        "for x in range(1,num+1):\n",
        "    d[x]=x**2\n",
        "print(d)\n",
        " \n"
      ],
      "execution_count": 19,
      "outputs": [
        {
          "output_type": "stream",
          "text": [
            "8\n",
            "{1: 1, 2: 4, 3: 9, 4: 16, 5: 25, 6: 36, 7: 49, 8: 64}\n"
          ],
          "name": "stdout"
        }
      ]
    },
    {
      "cell_type": "code",
      "metadata": {
        "id": "DEgdHVjMi5is",
        "outputId": "1ea72c57-1c12-419a-d763-59d6e006fb21",
        "colab": {
          "base_uri": "https://localhost:8080/"
        }
      },
      "source": [
        "#Q4\n",
        "import math\n",
        "position = [0,0]\n",
        "while True:\n",
        "    m = input()\n",
        "    if not s:\n",
        "        break\n",
        "    movement = m.split(\" \")\n",
        "    direction = movement[0]\n",
        "    steps = int(movement[1])\n",
        "    if direction==\"UP\":\n",
        "        position[0]+=steps\n",
        "    elif direction==\"DOWN\":\n",
        "        position[0]-=steps\n",
        "    elif direction==\"LEFT\":\n",
        "        position[1]-=steps\n",
        "    elif direction==\"RIGHT\":\n",
        "        position[1]+=steps\n",
        "    else:\n",
        "        pass\n",
        "\n",
        "print(int(round(math.sqrt(pos[1]**2+pos[0]**2))))"
      ],
      "execution_count": null,
      "outputs": [
        {
          "output_type": "stream",
          "text": [
            "UP 5 \n",
            "DOWN 3 \n",
            "LEFT 3 \n",
            "RIGHT 2\n",
            "\n",
            "2\n"
          ],
          "name": "stdout"
        }
      ]
    }
  ]
}