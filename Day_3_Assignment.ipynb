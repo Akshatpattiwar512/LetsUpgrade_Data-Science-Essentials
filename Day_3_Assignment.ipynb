{
  "nbformat": 4,
  "nbformat_minor": 0,
  "metadata": {
    "colab": {
      "name": "Day-3 Assignment",
      "provenance": [],
      "authorship_tag": "ABX9TyOhrB/W+xD5yK/rXDXEQlkG",
      "include_colab_link": true
    },
    "kernelspec": {
      "name": "python3",
      "display_name": "Python 3"
    }
  },
  "cells": [
    {
      "cell_type": "markdown",
      "metadata": {
        "id": "view-in-github",
        "colab_type": "text"
      },
      "source": [
        "<a href=\"https://colab.research.google.com/github/Akshatpattiwar512/LetsUpgrade_Data-Science-Essentials/blob/main/Day_3_Assignment.ipynb\" target=\"_parent\"><img src=\"https://colab.research.google.com/assets/colab-badge.svg\" alt=\"Open In Colab\"/></a>"
      ]
    },
    {
      "cell_type": "code",
      "metadata": {
        "id": "WT2JBj5wmLQ5",
        "outputId": "9ab936ea-c272-4217-c5cc-87593ecfa994",
        "colab": {
          "base_uri": "https://localhost:8080/"
        }
      },
      "source": [
        "#Q1\n",
        "import numpy as np \n",
        "print(np.arange(2, 50, 3))"
      ],
      "execution_count": 24,
      "outputs": [
        {
          "output_type": "stream",
          "text": [
            "[ 2  5  8 11 14 17 20 23 26 29 32 35 38 41 44 47]\n"
          ],
          "name": "stdout"
        }
      ]
    },
    {
      "cell_type": "code",
      "metadata": {
        "id": "sgdTi8ruqXWk",
        "outputId": "d41c23c4-0bf5-4679-bfdc-a91d1061f720",
        "colab": {
          "base_uri": "https://localhost:8080/"
        }
      },
      "source": [
        "#Q2\n",
        "import numpy as np\n",
        "lst1 = [] \n",
        "lst2=[]  \n",
        "n = 5\n",
        "for i in range(0, n): \n",
        "    ele = int(input()) \n",
        "    lst1.append(ele) \n",
        "print(\"List1 : \",lst1)\n",
        "\n",
        "for j in range(0, n): \n",
        "    ele2 = int(input())   \n",
        "    lst2.append(ele2) \n",
        "print(\"List2 : \",lst2)\n",
        "\n",
        "\n",
        "import numpy \n",
        "\n",
        "arr = numpy.array(lst1)\n",
        "\n",
        "print (\"List1: \", lst1)\n",
        "\n",
        "print (\"Array: \", arr)\n",
        "\n",
        "Array = numpy.array(lst2)\n",
        "\n",
        "print (\"List1: \", lst2)\n",
        "\n",
        "print (\"Array: \", Array)\n",
        "arr=np.array(lst1)\n",
        "Array=np.array(lst2)\n",
        "print(\"Concatenated array\")\n",
        "print(np.concatenate((arr, Array), axis=None))\n",
        "\n",
        "print(\"Sorted array of lst1\")\n",
        "lst1.sort()\n",
        "print(lst1)\n",
        "print(\"Sorted array of lst2\")\n",
        "lst2.sort()\n",
        "print(lst2)"
      ],
      "execution_count": 31,
      "outputs": [
        {
          "output_type": "stream",
          "text": [
            "23\n",
            "44\n",
            "34\n",
            "56\n",
            "75\n",
            "List1 :  [23, 44, 34, 56, 75]\n",
            "18\n",
            "14\n",
            "34\n",
            "23\n",
            "12\n",
            "List2 :  [18, 14, 34, 23, 12]\n",
            "List1:  [23, 44, 34, 56, 75]\n",
            "Array:  [23 44 34 56 75]\n",
            "List1:  [18, 14, 34, 23, 12]\n",
            "Array:  [18 14 34 23 12]\n",
            "Concatenated array\n",
            "[23 44 34 56 75 18 14 34 23 12]\n",
            "Sorted array of lst1\n",
            "[23, 34, 44, 56, 75]\n",
            "Sorted array of lst2\n",
            "[12, 14, 18, 23, 34]\n"
          ],
          "name": "stdout"
        }
      ]
    },
    {
      "cell_type": "code",
      "metadata": {
        "id": "p70E4M0RE3Th",
        "outputId": "e58916b2-16b7-4344-dce7-46684cb3d901",
        "colab": {
          "base_uri": "https://localhost:8080/"
        }
      },
      "source": [
        "#Q3\n",
        "import numpy as np\n",
        "arr = np.array( [[ 1, 2, 3],\n",
        "                 [ 4, 2, 5]] )\n",
        "print(\"No. of dimensions: \", arr.ndim)\n",
        "print(\"Size of array: \", arr.size)\n",
        "4"
      ],
      "execution_count": 26,
      "outputs": [
        {
          "output_type": "stream",
          "text": [
            "No. of dimensions:  2\n",
            "Size of array:  6\n"
          ],
          "name": "stdout"
        },
        {
          "output_type": "execute_result",
          "data": {
            "text/plain": [
              "4"
            ]
          },
          "metadata": {
            "tags": []
          },
          "execution_count": 26
        }
      ]
    },
    {
      "cell_type": "code",
      "metadata": {
        "id": "ZIuvJM0BseAl",
        "outputId": "5dff7949-90fc-4509-b87b-531415cd9909",
        "colab": {
          "base_uri": "https://localhost:8080/"
        }
      },
      "source": [
        "#Q4\n",
        ">>> a = np.array([1, 2, 3, 4, 5, 6])\n",
        ">>> a.shape\n",
        "(6,)\n",
        ">>> a2 = a[np.newaxis, :]\n",
        ">>> a2.shape\n",
        "(1, 6)\n",
        "print(a)\n",
        ">>> a = np.array([1, 2, 3, 4, 5, 6])\n",
        ">>> a.shape\n",
        "(6,)\n",
        ">>> b = np.expand_dims(a, axis=1)\n",
        ">>> b.shape\n",
        "(6, 1)\n",
        "print(b)"
      ],
      "execution_count": 52,
      "outputs": [
        {
          "output_type": "stream",
          "text": [
            "[1 2 3 4 5 6]\n",
            "[[1]\n",
            " [2]\n",
            " [3]\n",
            " [4]\n",
            " [5]\n",
            " [6]]\n"
          ],
          "name": "stdout"
        }
      ]
    },
    {
      "cell_type": "code",
      "metadata": {
        "id": "EghZCGFbGSPI",
        "outputId": "6ce36bc7-074e-4625-8b41-b529b4459048",
        "colab": {
          "base_uri": "https://localhost:8080/"
        }
      },
      "source": [
        "#Q5\n",
        "import numpy as np \n",
        "  \n",
        "a = np.array([[1, 2], \n",
        "              [3, 4]]) \n",
        "  \n",
        "b = np.array([[5, 6], \n",
        "              [7, 8]]) \n",
        "  \n",
        "# vertical stacking \n",
        "print(\"Vertical stacking:\\n\", np.vstack((a, b))) \n",
        "  \n",
        "# horizontal stacking \n",
        "print(\"\\nHorizontal stacking:\\n\", np.hstack((a, b))) "
      ],
      "execution_count": 28,
      "outputs": [
        {
          "output_type": "stream",
          "text": [
            "Vertical stacking:\n",
            " [[1 2]\n",
            " [3 4]\n",
            " [5 6]\n",
            " [7 8]]\n",
            "\n",
            "Horizontal stacking:\n",
            " [[1 2 5 6]\n",
            " [3 4 7 8]]\n"
          ],
          "name": "stdout"
        }
      ]
    },
    {
      "cell_type": "code",
      "metadata": {
        "id": "LeYkRZWJG-Sv",
        "outputId": "4cd20984-f3b6-4c14-de0a-5327c8c95a3d",
        "colab": {
          "base_uri": "https://localhost:8080/"
        }
      },
      "source": [
        "#Q6\n",
        "input_list = [1, 2, 2, 5, 8, 4, 4, 8] \n",
        "l1 = []  \n",
        "count = 0 \n",
        "for item in input_list: \n",
        "    if item not in l1: \n",
        "        count += 1\n",
        "        l1.append(item)\n",
        "print(\"No of unique items are:\", count)\n",
        "\n",
        "def unique(input_list): \n",
        "    list_set = set(input_list) \n",
        "    unique_list = list(list_set) \n",
        "    for x in unique_list: \n",
        "        print (x)\n",
        "print(\"Unique items are:\")\n",
        "unique(input_list)"
      ],
      "execution_count": 29,
      "outputs": [
        {
          "output_type": "stream",
          "text": [
            "No of unique items are: 5\n",
            "Unique items are:\n",
            "1\n",
            "2\n",
            "4\n",
            "5\n",
            "8\n"
          ],
          "name": "stdout"
        }
      ]
    }
  ]
}